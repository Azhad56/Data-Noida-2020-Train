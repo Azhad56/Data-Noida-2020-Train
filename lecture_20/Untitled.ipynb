{
 "cells": [
  {
   "cell_type": "code",
   "execution_count": 1,
   "metadata": {},
   "outputs": [],
   "source": [
    "class Node:\n",
    "    \n",
    "    def __init__(self, value, left=None, right=None):\n",
    "        self.value = value\n",
    "        self.left = left\n",
    "        self.right = right\n",
    "\n",
    "class BST:\n",
    "    \n",
    "    def __init__(self):\n",
    "        self.root = None\n",
    "        \n",
    "    def add(self, value):\n",
    "        self.root = self.__add(value, self.root)\n",
    "        \n",
    "    def __add(self, value, node):\n",
    "        \n",
    "        if node == None:\n",
    "            node = Node(value)\n",
    "        else:\n",
    "            if node.value > value:\n",
    "                node.left = self.__add(value, node.left)\n",
    "            if node.value < value:\n",
    "                node.right = self.__add(value, node.right)\n",
    "            \n",
    "        return node\n",
    "\n",
    "\n",
    "tree = BST()\n",
    "\n",
    "\n",
    "tree.add(20)\n",
    "\n",
    "tree.add(10)\n",
    "\n",
    "tree.add(30)\n",
    "\n",
    "tree.add(13)"
   ]
  },
  {
   "cell_type": "code",
   "execution_count": null,
   "metadata": {},
   "outputs": [],
   "source": []
  },
  {
   "cell_type": "code",
   "execution_count": null,
   "metadata": {},
   "outputs": [],
   "source": []
  }
 ],
 "metadata": {
  "kernelspec": {
   "display_name": "Python 3",
   "language": "python",
   "name": "python3"
  },
  "language_info": {
   "codemirror_mode": {
    "name": "ipython",
    "version": 3
   },
   "file_extension": ".py",
   "mimetype": "text/x-python",
   "name": "python",
   "nbconvert_exporter": "python",
   "pygments_lexer": "ipython3",
   "version": "3.7.2"
  }
 },
 "nbformat": 4,
 "nbformat_minor": 4
}
