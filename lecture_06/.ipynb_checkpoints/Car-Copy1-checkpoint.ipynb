{
 "cells": [
  {
   "cell_type": "code",
   "execution_count": 45,
   "metadata": {},
   "outputs": [],
   "source": [
    "class Engine:\n",
    "    \n",
    "    def __init__(self):\n",
    "        self.__cycle = 5\n",
    "        self.__active = False\n",
    "    \n",
    "    def start(self):\n",
    "        \n",
    "        if self.__active:\n",
    "            print(\"Engine already running\")\n",
    "            return\n",
    "        \n",
    "        if self.__cycle > 0:\n",
    "            print(\"Start like generic engine\")\n",
    "            self.__cycle -= 1\n",
    "            self.__active = True\n",
    "        else:\n",
    "            print(\"Can not start engine\")\n",
    "            \n",
    "    def stop(self):\n",
    "        \n",
    "        if not self.__active:\n",
    "            print(\"Engine already stopped\")\n",
    "            return\n",
    "        \n",
    "        print(\"Stop like generic engine\")\n",
    "        self.__active = False"
   ]
  },
  {
   "cell_type": "code",
   "execution_count": 46,
   "metadata": {},
   "outputs": [],
   "source": [
    "class Steering:\n",
    "    \n",
    "    def left(self):\n",
    "        print(\"Turn left like generic steering\")\n",
    "    def right(self):\n",
    "        print(\"Turn right like generic steering\")"
   ]
  },
  {
   "cell_type": "code",
   "execution_count": 47,
   "metadata": {},
   "outputs": [],
   "source": [
    "class MusicPlayer:\n",
    "    \n",
    "    def start(self):\n",
    "        print(\"Start like generic MP3\")\n",
    "    def stop(self):\n",
    "        print(\"Stop like generic MP3\")"
   ]
  },
  {
   "cell_type": "code",
   "execution_count": 48,
   "metadata": {},
   "outputs": [],
   "source": [
    "class Car:\n",
    "    \n",
    "    def __init__(self):\n",
    "        self.__engine = Engine()\n",
    "        self.__steering = Steering()\n",
    "        self.__mp3 = MusicPlayer()\n",
    "\n",
    "    def start(self):\n",
    "        self.__engine.start()\n",
    "        self.__mp3.start()\n",
    "        \n",
    "    def stop(self):\n",
    "        self.__mp3.start()\n",
    "        self.__engine.stop()"
   ]
  },
  {
   "cell_type": "code",
   "execution_count": 49,
   "metadata": {},
   "outputs": [],
   "source": [
    "suzuki = Car()"
   ]
  },
  {
   "cell_type": "code",
   "execution_count": 63,
   "metadata": {},
   "outputs": [
    {
     "name": "stdout",
     "output_type": "stream",
     "text": [
      "Can not start engine\n",
      "Start like generic MP3\n",
      "Start like generic MP3\n",
      "Engine already stopped\n"
     ]
    }
   ],
   "source": [
    "suzuki.start()\n",
    "suzuki.stop()"
   ]
  },
  {
   "cell_type": "code",
   "execution_count": 57,
   "metadata": {},
   "outputs": [
    {
     "name": "stdout",
     "output_type": "stream",
     "text": [
      "Start like generic MP3\n",
      "Stop like generic engine\n"
     ]
    }
   ],
   "source": []
  },
  {
   "cell_type": "code",
   "execution_count": null,
   "metadata": {},
   "outputs": [],
   "source": []
  },
  {
   "cell_type": "code",
   "execution_count": null,
   "metadata": {},
   "outputs": [],
   "source": []
  }
 ],
 "metadata": {
  "kernelspec": {
   "display_name": "Python 3",
   "language": "python",
   "name": "python3"
  },
  "language_info": {
   "codemirror_mode": {
    "name": "ipython",
    "version": 3
   },
   "file_extension": ".py",
   "mimetype": "text/x-python",
   "name": "python",
   "nbconvert_exporter": "python",
   "pygments_lexer": "ipython3",
   "version": "3.7.2"
  }
 },
 "nbformat": 4,
 "nbformat_minor": 4
}
