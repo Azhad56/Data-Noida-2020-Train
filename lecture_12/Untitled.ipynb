{
 "cells": [
  {
   "cell_type": "code",
   "execution_count": null,
   "metadata": {},
   "outputs": [],
   "source": [
    "from flask import Flask, request\n",
    "\n",
    "import requests, json"
   ]
  },
  {
   "cell_type": "code",
   "execution_count": null,
   "metadata": {},
   "outputs": [],
   "source": [
    "app = Flask(\"hello\")\n",
    "\n",
    "token = \"1234567890\""
   ]
  },
  {
   "cell_type": "code",
   "execution_count": null,
   "metadata": {},
   "outputs": [],
   "source": [
    "def bot(recipient, text):\n",
    "\n",
    "    url = r\"https://graph.facebook.com/v6.0/me/messages?access_token=EAALVdIQvwBcBAJMuUTf6a2Lojr6MqsGWaf5AmIt5jb63DgGmA6omnx8G92rGQ5eJlZCVGfTAHof0q4IsGH6VlRDtqhyX489IRnZBSN5IWCaatPu6ZCCtETE9Hp5DMggFInWW5Rlr1crpNVJc7HZCEbBIbj1Je5D08XF8z7JiAAZDZD\"    \n",
    "    \n",
    "    d1 = {\n",
    "      \"recipient\":{\n",
    "        \"id\": recipient\n",
    "      },\n",
    "      \"message\":{\n",
    "        \"text\":\"bot says \" + text\n",
    "      }\n",
    "    }\n",
    "    \n",
    "    d2 = {\n",
    "      \"recipient\":{\n",
    "        \"id\": recipient\n",
    "      },\n",
    "      \"message\":{\n",
    "        \"attachment\" : {\n",
    "            \"type\" : \"image\",\n",
    "            \"payload\" : {\n",
    "                \"url\" : r\"https://c402277.ssl.cf1.rackcdn.com/photos/18315/images/hero_small/Medium_WW230176.jpg?1576168323\",\n",
    "                \"is_reusable\": True\n",
    "            }\n",
    "        }\n",
    "      }\n",
    "    }\n",
    "    \n",
    "    requests.post(url, json=d1)\n",
    "    requests.post(url, json=d2)"
   ]
  },
  {
   "cell_type": "code",
   "execution_count": null,
   "metadata": {},
   "outputs": [],
   "source": [
    "@app.route(\"/check/\", methods=[\"GET\"])\n",
    "def sayhi():\n",
    "    return \"working\"\n",
    "\n",
    "@app.route(\"/callback/\", methods=[\"GET\"])\n",
    "def get_callback():\n",
    "    if token == request.args.get(\"hub.verify_token\"):\n",
    "        return request.args.get(\"hub.challenge\")\n",
    "    else:\n",
    "        return \"not working\"\n",
    "    \n",
    "\n",
    "@app.route(\"/callback/\", methods=[\"POST\"])\n",
    "def post_callback():\n",
    "    output = request.get_json()\n",
    "    \n",
    "    for entry in output.get(\"entry\"):\n",
    "        if \"messaging\" in entry:\n",
    "            for messaging in entry.get(\"messaging\"):\n",
    "                sender = messaging.get(\"sender\").get(\"id\")\n",
    "                recipient = messaging.get(\"recipient\").get(\"id\")\n",
    "                if \"text\" in messaging.get(\"message\"):\n",
    "                    text = messaging.get(\"message\").get(\"text\")\n",
    "                    \n",
    "                print(sender, recipient, text)\n",
    "                bot(sender, text)\n",
    "\n",
    "    return \"done\"\n",
    "\n"
   ]
  },
  {
   "cell_type": "code",
   "execution_count": null,
   "metadata": {},
   "outputs": [],
   "source": [
    "app.run()"
   ]
  },
  {
   "cell_type": "code",
   "execution_count": 1,
   "metadata": {},
   "outputs": [
    {
     "data": {
      "text/plain": [
       "'__main__'"
      ]
     },
     "execution_count": 1,
     "metadata": {},
     "output_type": "execute_result"
    }
   ],
   "source": [
    "__name__"
   ]
  },
  {
   "cell_type": "code",
   "execution_count": 2,
   "metadata": {},
   "outputs": [
    {
     "name": "stdout",
     "output_type": "stream",
     "text": [
      "hello\n"
     ]
    }
   ],
   "source": [
    "import hello"
   ]
  },
  {
   "cell_type": "code",
   "execution_count": null,
   "metadata": {},
   "outputs": [],
   "source": []
  },
  {
   "cell_type": "code",
   "execution_count": null,
   "metadata": {},
   "outputs": [],
   "source": []
  },
  {
   "cell_type": "code",
   "execution_count": null,
   "metadata": {},
   "outputs": [],
   "source": []
  },
  {
   "cell_type": "code",
   "execution_count": null,
   "metadata": {},
   "outputs": [],
   "source": []
  },
  {
   "cell_type": "code",
   "execution_count": null,
   "metadata": {},
   "outputs": [],
   "source": []
  }
 ],
 "metadata": {
  "kernelspec": {
   "display_name": "Python 3",
   "language": "python",
   "name": "python3"
  },
  "language_info": {
   "codemirror_mode": {
    "name": "ipython",
    "version": 3
   },
   "file_extension": ".py",
   "mimetype": "text/x-python",
   "name": "python",
   "nbconvert_exporter": "python",
   "pygments_lexer": "ipython3",
   "version": "3.7.2"
  }
 },
 "nbformat": 4,
 "nbformat_minor": 4
}
