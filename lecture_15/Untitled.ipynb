{
 "cells": [
  {
   "cell_type": "code",
   "execution_count": 2,
   "metadata": {},
   "outputs": [],
   "source": [
    "class Node:\n",
    "    \n",
    "    def __init__(self, value, nxt=None):\n",
    "        \n",
    "        self.value = value\n",
    "        self.next = nxt"
   ]
  },
  {
   "cell_type": "code",
   "execution_count": 25,
   "metadata": {},
   "outputs": [],
   "source": [
    "class LinkedList:\n",
    "    \n",
    "    def __init__(self):\n",
    "        \n",
    "        self.head = None\n",
    "        self.tail = None\n",
    "        self.size = 0\n",
    "        \n",
    "    def insertFirst(self, value):\n",
    "        node = Node(value, self.head)\n",
    "        self.head = node\n",
    "        \n",
    "        if self.tail == None:\n",
    "            self.tail = self.head\n",
    "        \n",
    "        self.size += 1\n",
    "        \n",
    "    def insertLast(self, value):\n",
    "        if self.size == 0:\n",
    "            self.insertFirst(value)\n",
    "            return\n",
    "    \n",
    "        node = Node(value)\n",
    "        self.tail.next = node\n",
    "        self.tail = node\n",
    "        \n",
    "        self.size += 1\n",
    "        \n",
    "    def deleteFirst(self):\n",
    "        \n",
    "        if self.size == 0:\n",
    "            print(\"List is empty\")\n",
    "            return \n",
    "        \n",
    "        value = self.head.value\n",
    "        self.head = self.head.next\n",
    "        \n",
    "        if self.head == None:\n",
    "            self.tail = None\n",
    "        \n",
    "        self.size -= 1\n",
    "        return value\n",
    "    \n",
    "    \n",
    "    def deleteLast(self):\n",
    "        \n",
    "        if self.size <= 1:\n",
    "            return self.deleteFirst()\n",
    "            \n",
    "        second_last = self.head\n",
    "        while second_last.next.next != None:\n",
    "            second_last = second_last.next\n",
    "            \n",
    "        value = self.tail.value\n",
    "        self.tail = second_last\n",
    "        self.tail.next = None\n",
    "        \n",
    "        self.size -= 1\n",
    "        return value\n",
    "    \n",
    "    def insert(self, index, value):\n",
    "        \n",
    "        if index not in range(0, self.size + 1):\n",
    "            print(\"Pagal ho gya hai kya bhai\")\n",
    "            return\n",
    "        \n",
    "        if index == 0:\n",
    "            self.insertFirst(value)\n",
    "            return\n",
    "        \n",
    "        if index == self.size:\n",
    "            self.insertLast(value)\n",
    "            return\n",
    "        \n",
    "        prev = self.__seek(index - 1)\n",
    "        node = Node(value)\n",
    "        node.next = prev.next\n",
    "        prev.next = node\n",
    "        self.size += 1\n",
    "        \n",
    "        \n",
    "        \n",
    "    \n",
    "    def __seek(self, index):\n",
    "        node = self.head\n",
    "        for i in range(index-1):\n",
    "            node = node.next\n",
    "            \n",
    "        return node\n",
    "        \n",
    "        \n",
    "    def __repr__(self):\n",
    "        \n",
    "        node = self.head\n",
    "        ans = \"\"\n",
    "        while node != None:\n",
    "            ans = ans + str(node.value) + \"->\"\n",
    "            node = node.next\n",
    "                \n",
    "        return ans\n",
    "        \n",
    "        "
   ]
  },
  {
   "cell_type": "code",
   "execution_count": 31,
   "metadata": {},
   "outputs": [
    {
     "data": {
      "text/plain": [
       "20->100->10->30->"
      ]
     },
     "execution_count": 31,
     "metadata": {},
     "output_type": "execute_result"
    }
   ],
   "source": [
    "ll = LinkedList()\n",
    "ll.insert(0, 10)\n",
    "ll.insert(0, 20)\n",
    "ll.insert(2, 30)\n",
    "ll.insert(1, 100)\n",
    "ll"
   ]
  },
  {
   "cell_type": "code",
   "execution_count": 22,
   "metadata": {},
   "outputs": [],
   "source": [
    "# ll = LinkedList()\n",
    "# ll.insertFirst(\"Mohini\")\n",
    "# ll.insertFirst(\"Kushagra\")\n",
    "# ll.insertFirst(\"Rinkiya\")\n",
    "# ll.insertLast(\"Ravi\")\n",
    "\n",
    "# ll.deleteLast()\n",
    "# ll.deleteLast()\n",
    "\n",
    "# ll"
   ]
  },
  {
   "cell_type": "code",
   "execution_count": null,
   "metadata": {},
   "outputs": [],
   "source": []
  },
  {
   "cell_type": "code",
   "execution_count": null,
   "metadata": {},
   "outputs": [],
   "source": []
  }
 ],
 "metadata": {
  "kernelspec": {
   "display_name": "Python 3",
   "language": "python",
   "name": "python3"
  },
  "language_info": {
   "codemirror_mode": {
    "name": "ipython",
    "version": 3
   },
   "file_extension": ".py",
   "mimetype": "text/x-python",
   "name": "python",
   "nbconvert_exporter": "python",
   "pygments_lexer": "ipython3",
   "version": "3.7.2"
  }
 },
 "nbformat": 4,
 "nbformat_minor": 4
}
