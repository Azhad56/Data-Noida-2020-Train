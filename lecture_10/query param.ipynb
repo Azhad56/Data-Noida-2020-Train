{
 "cells": [
  {
   "cell_type": "code",
   "execution_count": 1,
   "metadata": {},
   "outputs": [],
   "source": [
    "from flask import Flask, request\n",
    "\n"
   ]
  },
  {
   "cell_type": "code",
   "execution_count": 2,
   "metadata": {},
   "outputs": [],
   "source": [
    "d = {\n",
    "    \"anuj\" : \"I know you are king of the world\",\n",
    "    \"huner\" : \"Jaa bhag ja\"\n",
    "}"
   ]
  },
  {
   "cell_type": "code",
   "execution_count": null,
   "metadata": {},
   "outputs": [
    {
     "name": "stdout",
     "output_type": "stream",
     "text": [
      " * Serving Flask app \"this-is-a-name\" (lazy loading)\n",
      " * Environment: production\n",
      "   WARNING: Do not use the development server in a production environment.\n",
      "   Use a production WSGI server instead.\n",
      " * Debug mode: off\n"
     ]
    },
    {
     "name": "stderr",
     "output_type": "stream",
     "text": [
      " * Running on http://127.0.0.1:5000/ (Press CTRL+C to quit)\n",
      "127.0.0.1 - - [06/Feb/2020 12:06:49] \"GET /search/?name=anuj HTTP/1.1\" 200 -\n",
      "127.0.0.1 - - [06/Feb/2020 12:06:49] \"GET /search/?name=anuj HTTP/1.1\" 200 -\n",
      "127.0.0.1 - - [06/Feb/2020 12:06:58] \"GET /search/?name=huner HTTP/1.1\" 200 -\n",
      "127.0.0.1 - - [06/Feb/2020 12:06:58] \"GET /search/?name=huner HTTP/1.1\" 200 -\n"
     ]
    }
   ],
   "source": [
    "app = Flask(\"this-is-a-name\")\n",
    "\n",
    "@app.route(\"/\")\n",
    "def something():\n",
    "    return \"Yes it is something\"\n",
    "\n",
    "\n",
    "@app.route(\"/search/\")\n",
    "def search():\n",
    "    name = request.args.get(\"name\")\n",
    "    age = request.args.get(\"age\")\n",
    "    return \"My name is {}, My life prediction is {}\".format(name, d[name])\n",
    "\n",
    "app.run()"
   ]
  },
  {
   "cell_type": "code",
   "execution_count": null,
   "metadata": {},
   "outputs": [],
   "source": []
  }
 ],
 "metadata": {
  "kernelspec": {
   "display_name": "Python 3",
   "language": "python",
   "name": "python3"
  },
  "language_info": {
   "codemirror_mode": {
    "name": "ipython",
    "version": 3
   },
   "file_extension": ".py",
   "mimetype": "text/x-python",
   "name": "python",
   "nbconvert_exporter": "python",
   "pygments_lexer": "ipython3",
   "version": "3.7.2"
  }
 },
 "nbformat": 4,
 "nbformat_minor": 4
}
