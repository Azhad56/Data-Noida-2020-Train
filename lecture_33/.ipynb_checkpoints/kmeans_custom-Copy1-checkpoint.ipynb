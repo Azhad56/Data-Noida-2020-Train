{
 "cells": [
  {
   "cell_type": "code",
   "execution_count": 7,
   "metadata": {},
   "outputs": [],
   "source": [
    "import numpy as np\n",
    "import matplotlib.pyplot as plt\n",
    "\n",
    "from sklearn.datasets import make_blobs\n",
    "\n",
    "import random"
   ]
  },
  {
   "cell_type": "code",
   "execution_count": 68,
   "metadata": {},
   "outputs": [],
   "source": [
    "X, _ = make_blobs(centers=6, random_state=42)"
   ]
  },
  {
   "cell_type": "code",
   "execution_count": 69,
   "metadata": {},
   "outputs": [
    {
     "data": {
      "text/plain": [
       "<matplotlib.collections.PathCollection at 0x1a177ed6d8>"
      ]
     },
     "execution_count": 69,
     "metadata": {},
     "output_type": "execute_result"
    },
    {
     "data": {
      "image/png": "[encoded data removed]",
      "text/plain": [
       "<Figure size 432x288 with 1 Axes>"
      ]
     },
     "metadata": {
      "needs_background": "light"
     },
     "output_type": "display_data"
    }
   ],
   "source": [
    "plt.scatter(X[:, 0], X[:, 1])"
   ]
  },
  {
   "cell_type": "code",
   "execution_count": 70,
   "metadata": {},
   "outputs": [],
   "source": [
    "class Cluster:\n",
    "    \n",
    "    def __init__(self, center, name):\n",
    "        self.center = center\n",
    "        self.name = name\n",
    "        self.points= []\n",
    "        \n",
    "    def distance(self, point):\n",
    "        return np.sqrt(np.sum((self.center - point) ** 2))\n",
    "    \n",
    "    def relocate(self):\n",
    "        self.center = np.mean(self.points, axis=0)\n",
    "        self.points.clear()\n",
    "\n",
    "class KMeansCustom:\n",
    "    \n",
    "    def __init__(self, n_clusters=5, max_iters=20):\n",
    "        self.max_iters = max_iters\n",
    "        self.n_clusters = n_clusters\n",
    "        \n",
    "    def fit(self, X):\n",
    "        \n",
    "        clusters = []\n",
    "        for i in range(self.n_clusters):\n",
    "            cluster = Cluster(center=random.choice(X), name=i)\n",
    "            clusters.append(cluster)\n",
    "            \n",
    "        errors = []\n",
    "        \n",
    "        for it in range(self.max_iters):\n",
    "            \n",
    "            # voting\n",
    "            labels = []\n",
    "            \n",
    "            for point in X:\n",
    "                \n",
    "                # collect distance of point to all clusters\n",
    "                distances = []\n",
    "                for cluster in clusters:\n",
    "                    distance = cluster.distance(point)\n",
    "                    distances.append((distance, cluster.name))\n",
    "                \n",
    "                # sort and select cluster with min distance \n",
    "                distance, cluster_name = sorted(distances)[0]\n",
    "                \n",
    "                # customer voted who\n",
    "                labels.append(cluster_name)\n",
    "                \n",
    "                # who voted me\n",
    "                cluster = clusters[cluster_name]\n",
    "                cluster.points.append(point)\n",
    "                \n",
    "            err = self.error(labels, clusters, X)\n",
    "            errors.append(err)\n",
    "            \n",
    "            for cluster in clusters:\n",
    "                cluster.relocate()\n",
    "        \n",
    "        self.labels_ = labels\n",
    "        self.cluster_centers_ = [cluster.center for cluster in clusters]\n",
    "        \n",
    "        return(errors)\n",
    "        \n",
    "        \n",
    "        \n",
    "    \n",
    "    def error(self, labels, clusters, X):\n",
    "        \n",
    "        err = 0\n",
    "        \n",
    "        for point, label in zip(X, labels):\n",
    "            cluster = clusters[label]\n",
    "            err += cluster.distance(point)\n",
    "        \n",
    "        return err / len(X)\n",
    "            \n",
    "        "
   ]
  },
  {
   "cell_type": "code",
   "execution_count": 73,
   "metadata": {},
   "outputs": [
    {
     "data": {
      "image/png": "[encoded data removed]",
      "text/plain": [
       "<Figure size 432x288 with 1 Axes>"
      ]
     },
     "metadata": {
      "needs_background": "light"
     },
     "output_type": "display_data"
    }
   ],
   "source": [
    "model = KMeansCustom(6)\n",
    "\n",
    "errors = model.fit(X)\n",
    "\n",
    "plt.scatter(X[:, 0], X[:, 1], c=model.labels_)\n",
    "\n",
    "for center in model.cluster_centers_:\n",
    "    plt.scatter(center[0], center[1], s=120)"
   ]
  },
  {
   "cell_type": "code",
   "execution_count": 74,
   "metadata": {},
   "outputs": [
    {
     "data": {
      "text/plain": [
       "[<matplotlib.lines.Line2D at 0x1a16d059b0>]"
      ]
     },
     "execution_count": 74,
     "metadata": {},
     "output_type": "execute_result"
    },
    {
     "data": {
      "image/png": "[encoded data removed]",
      "text/plain": [
       "<Figure size 432x288 with 1 Axes>"
      ]
     },
     "metadata": {
      "needs_background": "light"
     },
     "output_type": "display_data"
    }
   ],
   "source": [
    "plt.plot(errors)"
   ]
  },
  {
   "cell_type": "code",
   "execution_count": null,
   "metadata": {},
   "outputs": [],
   "source": []
  },
  {
   "cell_type": "code",
   "execution_count": null,
   "metadata": {},
   "outputs": [],
   "source": []
  },
  {
   "cell_type": "code",
   "execution_count": null,
   "metadata": {},
   "outputs": [],
   "source": []
  }
 ],
 "metadata": {
  "kernelspec": {
   "display_name": "Python 3",
   "language": "python",
   "name": "python3"
  },
  "language_info": {
   "codemirror_mode": {
    "name": "ipython",
    "version": 3
   },
   "file_extension": ".py",
   "mimetype": "text/x-python",
   "name": "python",
   "nbconvert_exporter": "python",
   "pygments_lexer": "ipython3",
   "version": "3.6.10"
  }
 },
 "nbformat": 4,
 "nbformat_minor": 4
}
