{
 "cells": [
  {
   "cell_type": "code",
   "execution_count": 135,
   "metadata": {},
   "outputs": [],
   "source": [
    "class Human:\n",
    "    \n",
    "    population = 0\n",
    "    \n",
    "    listing = []\n",
    "    \n",
    "    def __init__(self, name=\"bachha\", age=0):\n",
    "        self.name = name\n",
    "        self.age = age\n",
    "        self.alive = True\n",
    "        \n",
    "        Human.population += 1\n",
    "        Human.listing.append(self)\n",
    "        \n",
    "    def die(self):\n",
    "        self.alive = False\n",
    "        Human.population -= 1\n",
    "        \n",
    "    def eat(self):\n",
    "        print(self.name, \"is eating\")\n",
    "        \n",
    "    def __repr__(self):\n",
    "        return \"Name : {}, age : {}, alive : {}\".format(self.name, self.age, self.alive)\n",
    "        \n",
    "    @classmethod\n",
    "    def shoot(cls, list_acc, target):\n",
    "        if sum(map(lambda x: x.alive, list_acc)) >= 3:\n",
    "            target.die()\n",
    "        else:\n",
    "            print(\"You are short of people\")\n",
    "    \n",
    "    @classmethod\n",
    "    def genesis(cls):\n",
    "        cls.population = 0\n",
    "        for item in cls.listing:\n",
    "            item.alive = False\n",
    "      \n",
    "\n",
    "\n"
   ]
  },
  {
   "cell_type": "code",
   "execution_count": 136,
   "metadata": {},
   "outputs": [],
   "source": [
    "class Hitman(Human):\n",
    "    \n",
    "    total_kills = 0\n",
    "\n",
    "    def __init__(self, name=\"hitter\", age=0):\n",
    "        super().__init__(name, age)\n",
    "        self.kills = 0\n",
    "        \n",
    "    def shoot(self, person):\n",
    "        if not self.alive:\n",
    "            print(\"Hitman is already dead\")\n",
    "        elif self == person:\n",
    "            print(\"Suicide is a bad thing\")\n",
    "        elif not person.alive:\n",
    "            print(\"Target is already dead\")\n",
    "        else:\n",
    "            self.kills += 1\n",
    "            Hitman.total_kills += 1\n",
    "            person.die()\n",
    "  "
   ]
  },
  {
   "cell_type": "code",
   "execution_count": 137,
   "metadata": {},
   "outputs": [],
   "source": [
    "james = Hitman(\"James\", 35)\n",
    "teza = Hitman(\"Teza\", 30)\n",
    "ravi = Human(\"Ravi\", 20)\n",
    "mohit = Human(\"Mohit\", 22)\n",
    "shubham = Human(\"Shubham\", 23)"
   ]
  },
  {
   "cell_type": "code",
   "execution_count": 138,
   "metadata": {},
   "outputs": [
    {
     "data": {
      "text/plain": [
       "0"
      ]
     },
     "execution_count": 138,
     "metadata": {},
     "output_type": "execute_result"
    }
   ],
   "source": [
    "Hitman.total_kills"
   ]
  },
  {
   "cell_type": "code",
   "execution_count": 139,
   "metadata": {},
   "outputs": [],
   "source": [
    "Human.shoot([ravi, mohit, shubham, james], james)"
   ]
  },
  {
   "cell_type": "code",
   "execution_count": 140,
   "metadata": {},
   "outputs": [
    {
     "name": "stdout",
     "output_type": "stream",
     "text": [
      "Hitman is already dead\n"
     ]
    }
   ],
   "source": [
    "james.shoot(ravi)"
   ]
  },
  {
   "cell_type": "code",
   "execution_count": 141,
   "metadata": {},
   "outputs": [
    {
     "name": "stdout",
     "output_type": "stream",
     "text": [
      "Hitman is already dead\n"
     ]
    }
   ],
   "source": [
    "james.shoot(teza)"
   ]
  },
  {
   "cell_type": "code",
   "execution_count": 142,
   "metadata": {},
   "outputs": [
    {
     "name": "stdout",
     "output_type": "stream",
     "text": [
      "Hitman is already dead\n"
     ]
    }
   ],
   "source": [
    "james.shoot(james)"
   ]
  },
  {
   "cell_type": "code",
   "execution_count": 143,
   "metadata": {},
   "outputs": [
    {
     "name": "stdout",
     "output_type": "stream",
     "text": [
      "Target is already dead\n"
     ]
    }
   ],
   "source": [
    "teza.shoot(james)"
   ]
  },
  {
   "cell_type": "code",
   "execution_count": 144,
   "metadata": {},
   "outputs": [
    {
     "data": {
      "text/plain": [
       "False"
      ]
     },
     "execution_count": 144,
     "metadata": {},
     "output_type": "execute_result"
    }
   ],
   "source": [
    "james.alive"
   ]
  },
  {
   "cell_type": "code",
   "execution_count": 145,
   "metadata": {},
   "outputs": [
    {
     "data": {
      "text/plain": [
       "[Name : James, age : 35, alive : False,\n",
       " Name : Teza, age : 30, alive : True,\n",
       " Name : Ravi, age : 20, alive : True,\n",
       " Name : Mohit, age : 22, alive : True,\n",
       " Name : Shubham, age : 23, alive : True]"
      ]
     },
     "execution_count": 145,
     "metadata": {},
     "output_type": "execute_result"
    }
   ],
   "source": [
    "Human.listing"
   ]
  },
  {
   "cell_type": "code",
   "execution_count": 146,
   "metadata": {},
   "outputs": [
    {
     "name": "stdout",
     "output_type": "stream",
     "text": [
      "Name : James, age : 35, alive : False\n"
     ]
    }
   ],
   "source": [
    "print(james)"
   ]
  },
  {
   "cell_type": "code",
   "execution_count": null,
   "metadata": {},
   "outputs": [],
   "source": []
  }
 ],
 "metadata": {
  "kernelspec": {
   "display_name": "Python 3",
   "language": "python",
   "name": "python3"
  },
  "language_info": {
   "codemirror_mode": {
    "name": "ipython",
    "version": 3
   },
   "file_extension": ".py",
   "mimetype": "text/x-python",
   "name": "python",
   "nbconvert_exporter": "python",
   "pygments_lexer": "ipython3",
   "version": "3.7.2"
  }
 },
 "nbformat": 4,
 "nbformat_minor": 4
}
